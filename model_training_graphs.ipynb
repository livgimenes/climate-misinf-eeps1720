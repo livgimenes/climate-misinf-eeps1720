{
  "cells": [
    {
      "cell_type": "markdown",
      "metadata": {
        "id": "view-in-github",
        "colab_type": "text"
      },
      "source": [
        "<a href=\"https://colab.research.google.com/github/livgimenes/climate-misinf-eeps1720/blob/main/model_training_graphs.ipynb\" target=\"_parent\"><img src=\"https://colab.research.google.com/assets/colab-badge.svg\" alt=\"Open In Colab\"/></a>"
      ]
    },
    {
      "cell_type": "markdown",
      "source": [
        "A note: I used this one notebook to test a bunch of variations of this model - I modified the model itself and reran the notebook each time rather than defining separate models to begin with so only the most recent model I was working on is actually visible here!"
      ],
      "metadata": {
        "id": "NVJQsh466nNJ"
      }
    },
    {
      "cell_type": "markdown",
      "source": [
        "Disclaimer: some of this code was provided by Coan et al from their paper \"Computer-assisted classification of contrarian claims about climate change\" (https://doi.org/10.1038/s41598-021-01714-4)\n"
      ],
      "metadata": {
        "id": "HSbRXk047wGw"
      }
    },
    {
      "cell_type": "code",
      "execution_count": null,
      "metadata": {
        "id": "RijpA9rzGnmS"
      },
      "outputs": [],
      "source": [
        "# Install/load the required packages\n",
        "!pip install simpletransformers\n",
        "import pandas as pd\n",
        "import re\n",
        "import unicodedata\n",
        "import time\n",
        "from simpletransformers.classification import ClassificationModel\n",
        "from sklearn.preprocessing import LabelEncoder\n",
        "from sklearn.utils.class_weight import compute_class_weight\n",
        "from sklearn.metrics import f1_score, accuracy_score, precision_score, recall_score\n",
        "import torch\n",
        "\n",
        "if torch.cuda.is_available():     \n",
        "    device = torch.device(\"cuda\")\n",
        "else:\n",
        "    print('No GPU available, using the CPU instead.')\n",
        "    device = torch.device(\"cpu\")"
      ]
    },
    {
      "cell_type": "code",
      "execution_count": 2,
      "metadata": {
        "id": "urnA2aU7G0Yb"
      },
      "outputs": [],
      "source": [
        "def f1_multiclass_macro(labels, preds):\n",
        "    return f1_score(labels, preds, average='macro')\n",
        "def f1_multiclass_micro(labels, preds):\n",
        "    return f1_score(labels, preds, average='micro')\n",
        "def f1_multiclass_weighted(labels, preds):\n",
        "    return f1_score(labels, preds, average='weighted')\n",
        "def f1_class(labels, preds):\n",
        "    return f1_score(labels, preds, average=None)\n",
        "def precision(labels, preds):\n",
        "    return precision_score(labels, preds, average='macro')\n",
        "def recall(labels, preds):\n",
        "    return recall_score(labels, preds, average='macro')\n",
        "\n",
        "# PRE PROCESSING\n",
        "def remove_between_square_brackets(text):\n",
        "    return re.sub('\\[[^]]*\\]', '', text)\n",
        "def remove_non_ascii(text):\n",
        "    \"\"\"Remove non-ASCII characters from list of tokenized words\"\"\"\n",
        "    return unicodedata.normalize('NFKD', text).encode('ascii', 'ignore').decode('utf-8', 'ignore')\n",
        "def strip_underscores(text):\n",
        "    return re.sub(r'_+', ' ', text)\n",
        "def remove_multiple_spaces(text):\n",
        "    return re.sub(r'\\s{2,}', ' ', text)\n",
        "\n",
        "def denoise_text(text):\n",
        "    text = remove_between_square_brackets(text)\n",
        "    text = remove_non_ascii(text)\n",
        "    text = strip_underscores(text)\n",
        "    text = remove_multiple_spaces(text)\n",
        "    return text.strip()"
      ]
    },
    {
      "cell_type": "code",
      "execution_count": 3,
      "metadata": {
        "id": "Thr9gXLyG21C"
      },
      "outputs": [],
      "source": [
        "# Load DATA\n",
        "\n",
        "\n",
        "train = pd.read_csv('/content/training.csv')\n",
        "valid = pd.read_csv('/content/validation.csv')\n",
        "test = pd.read_csv('/content/test.csv')\n",
        "\n",
        "train['text'] = train['text'].astype(str).apply(denoise_text)\n",
        "valid['text'] = valid['text'].astype(str).apply(denoise_text)\n",
        "test['text'] = test['text'].astype(str).apply(denoise_text)\n",
        "\n",
        "label_encoder = LabelEncoder()\n",
        "\n",
        "train['labels'] = label_encoder.fit_transform(train.claim)\n",
        "valid['labels'] = label_encoder.fit_transform(valid.claim)\n",
        "test['labels'] = label_encoder.fit_transform(test.claim)"
      ]
    },
    {
      "cell_type": "code",
      "execution_count": null,
      "metadata": {
        "id": "jv8m77SDG6YU"
      },
      "outputs": [],
      "source": [
        "print(round(train.labels.value_counts(normalize=True),2))\n",
        "weights = compute_class_weight(class_weight='balanced', classes=train.labels.unique(), y=train.labels)\n",
        "weights = [*weights]\n",
        "print(weights)"
      ]
    },
    {
      "cell_type": "code",
      "execution_count": null,
      "metadata": {
        "id": "n3KrDPXvHB-c"
      },
      "outputs": [],
      "source": [
        "model = ClassificationModel('roberta', 'roberta-large', \n",
        "                            weight = weights,\n",
        "                            num_labels = 6,\n",
        "                            args={'reprocess_input_data': True, \n",
        "                                  'overwrite_output_dir': True,\n",
        "                                  'output_dir': 'models/new_model/',\n",
        "                                  'best_model_dir': 'models/new_model/best_model/',\n",
        "                                  # Hyperparameters\n",
        "                                  'train_batch_size': 6,\n",
        "                                  'num_train_epochs': 3, \n",
        "                                  'learning_rate': 1e-5,\n",
        "                                  # Text processing\n",
        "                                  'max_seq_length': 256,\n",
        "                                  'sliding_window': True,\n",
        "                                  'stride': 0.6,\n",
        "                                  'do_lower_case': False,\n",
        "                                  # Evaluation\n",
        "                                  'evaluate_during_training': True,\n",
        "                                  'evaluate_during_training_verbose': True,\n",
        "                                  'evaluate_during_training_steps': -1,\n",
        "                                  })\n",
        "\n",
        "# Train and evaluate the model\n",
        "model.train_model(train, eval_df = valid,\n",
        "                  f1_macro = f1_multiclass_macro, \n",
        "                  f1_micro = f1_multiclass_micro, \n",
        "                  f1_weighted = f1_multiclass_weighted, \n",
        "                  acc = accuracy_score, \n",
        "                  f1_class = f1_class)"
      ]
    },
    {
      "cell_type": "code",
      "execution_count": null,
      "metadata": {
        "id": "ynM2dHueHFeK"
      },
      "outputs": [],
      "source": [
        "# Evaluate the classifier performance on the validation data\n",
        "result, model_outputs, wrong_predictions = model.eval_model(valid, \n",
        "                                                            f1_macro = f1_multiclass_macro,\n",
        "                                                            precision = precision, \n",
        "                                                            recall = recall,\n",
        "                                                            acc = accuracy_score,\n",
        "                                                            f1_micro = f1_multiclass_micro, \n",
        "                                                            f1_weighted = f1_multiclass_weighted, \n",
        "                                                            f1_class = f1_class)\n",
        "\n",
        "print('\\n\\nThese are the results when testing the model on the validation data set:\\n')\n",
        "print(result)"
      ]
    },
    {
      "cell_type": "code",
      "execution_count": null,
      "metadata": {
        "id": "bz96ItSVHH6f"
      },
      "outputs": [],
      "source": [
        "# Evaluate the classifier performance on the testing data\n",
        "result_test, model_outputs_test, wrong_predictions_test = model.eval_model(test, \n",
        "                                                                           f1_macro = f1_multiclass_macro,\n",
        "                                                                           precision = precision, \n",
        "                                                                           recall = recall,\n",
        "                                                                           acc = accuracy_score,\n",
        "                                                                           f1_micro = f1_multiclass_micro, \n",
        "                                                                           f1_weighted = f1_multiclass_weighted,\n",
        "                                                                           f1_class = f1_class)\n",
        "print('\\n\\nThese are the results when testing the model on the testing data set:\\n')\n",
        "print(result_test)"
      ]
    },
    {
      "cell_type": "markdown",
      "metadata": {
        "id": "FxR57jUDxB5i"
      },
      "source": [
        "## Comparing Model Results"
      ]
    },
    {
      "cell_type": "markdown",
      "source": [
        "Code to generate some of the figures in the paper"
      ],
      "metadata": {
        "id": "lqgKOu3Q6QLV"
      }
    },
    {
      "cell_type": "code",
      "execution_count": 20,
      "metadata": {
        "colab": {
          "base_uri": "https://localhost:8080/",
          "height": 564
        },
        "id": "IN3mee1BxBca",
        "outputId": "3ea00b3c-f959-412e-9f57-ee215f5eac25"
      },
      "outputs": [
        {
          "output_type": "display_data",
          "data": {
            "text/plain": [
              "<IPython.core.display.Javascript object>"
            ],
            "application/javascript": [
              "\n",
              "    async function download(id, filename, size) {\n",
              "      if (!google.colab.kernel.accessAllowed) {\n",
              "        return;\n",
              "      }\n",
              "      const div = document.createElement('div');\n",
              "      const label = document.createElement('label');\n",
              "      label.textContent = `Downloading \"${filename}\": `;\n",
              "      div.appendChild(label);\n",
              "      const progress = document.createElement('progress');\n",
              "      progress.max = size;\n",
              "      div.appendChild(progress);\n",
              "      document.body.appendChild(div);\n",
              "\n",
              "      const buffers = [];\n",
              "      let downloaded = 0;\n",
              "\n",
              "      const channel = await google.colab.kernel.comms.open(id);\n",
              "      // Send a message to notify the kernel that we're ready.\n",
              "      channel.send({})\n",
              "\n",
              "      for await (const message of channel.messages) {\n",
              "        // Send a message to notify the kernel that we're ready.\n",
              "        channel.send({})\n",
              "        if (message.buffers) {\n",
              "          for (const buffer of message.buffers) {\n",
              "            buffers.push(buffer);\n",
              "            downloaded += buffer.byteLength;\n",
              "            progress.value = downloaded;\n",
              "          }\n",
              "        }\n",
              "      }\n",
              "      const blob = new Blob(buffers, {type: 'application/binary'});\n",
              "      const a = document.createElement('a');\n",
              "      a.href = window.URL.createObjectURL(blob);\n",
              "      a.download = filename;\n",
              "      div.appendChild(a);\n",
              "      a.click();\n",
              "      div.remove();\n",
              "    }\n",
              "  "
            ]
          },
          "metadata": {}
        },
        {
          "output_type": "display_data",
          "data": {
            "text/plain": [
              "<IPython.core.display.Javascript object>"
            ],
            "application/javascript": [
              "download(\"download_ef09e62f-c7fe-4020-948d-e7c13b2233e9\", \"f1_by_class.png\", 145877)"
            ]
          },
          "metadata": {}
        },
        {
          "output_type": "display_data",
          "data": {
            "text/plain": [
              "<Figure size 1200x600 with 1 Axes>"
            ],
            "image/png": "[encoded data removed]"
          },
          "metadata": {}
        }
      ],
      "source": [
        "import numpy as np\n",
        "import matplotlib.pyplot as plt\n",
        "from google.colab import files\n",
        "\n",
        "orig_data_no_weights = [0.92320306, 0.86486486, 0.84955752, 0.89915966, 0.71864407,\n",
        "       0.76679842]\n",
        "orig_data_weights = [0.92819518, 0.86166008, 0.85628743, 0.90763052, 0.72727273,\n",
        "       0.80201765]\n",
        "one_fifth_data_no_weights = [0.81900452, 0.90310078, 0.89014085, 0.90612245, 0.89772727, 0.88]\n",
        "equal_data_no_weights = [0.90461804, 0.85984848, 0.83333333, 0.89878543, 0.79190751,\n",
        "       0.81572482]\n",
        "equal_data_weights = [0.90263955, 0.85380117, 0.83615819, 0.88372093, 0.83008357,\n",
        "       0.80745342]\n",
        "\n",
        "pos = np.arange(len(orig_data_no_weights))\n",
        "width = 0.15\n",
        "\n",
        "fig, ax = plt.subplots(figsize=(12,6))\n",
        "plt.ylim(0.65, 1)\n",
        "ax.bar(pos, orig_data_no_weights, width, alpha=0.5, color='b', label='All data, no class weights')\n",
        "ax.bar(pos + width, orig_data_weights, width, alpha=0.5, color='g', label='All data, class weights')\n",
        "ax.bar(pos + 2*width, equal_data_no_weights, width, alpha=0.5, color='c', label='Undersampling 1, no class weights')\n",
        "ax.bar(pos + 3*width, equal_data_weights, width, alpha=0.5, color='m', label='Undersampling 1, class weights')\n",
        "ax.bar(pos + 4*width, one_fifth_data_no_weights, width, alpha=0.5, color='r', label='Undersampling 2, no class weights')\n",
        "\n",
        "ax.set_ylabel('F1 Score', fontweight='heavy')\n",
        "ax.set_xlabel('Class', fontweight='heavy')\n",
        "ax.set_title('F1 Score by Class Label', fontweight='heavy')\n",
        "ax.set_xticks(pos + 2*width)\n",
        "ax.set_xticklabels(('0', '1', '2', '3', '4', '5'))\n",
        "ax.legend()\n",
        "\n",
        "# Show the plot\n",
        "plt.savefig(\"f1_by_class.png\", dpi=300)\n",
        "files.download(\"f1_by_class.png\") \n"
      ]
    },
    {
      "cell_type": "markdown",
      "source": [
        "Multi class vs Binary"
      ],
      "metadata": {
        "id": "FPYMMo85dWX9"
      }
    },
    {
      "cell_type": "code",
      "source": [
        "orig_data_no_weights_valid = 0.92320306\n",
        "orig_data_no_weights_avg = np.mean([0.86486486, 0.84955752, 0.89915966, 0.71864407,\n",
        "       0.76679842])\n",
        "orig_data_weights_valid = 0.92819518\n",
        "orig_data_weights_avg = np.mean([0.86166008, 0.85628743, 0.90763052, 0.72727273,\n",
        "       0.80201765])\n",
        "one_fifth_data_no_weights_valid = 0.81900452\n",
        "one_fifth_data_no_weights_avg = np.mean([0.90310078, 0.89014085, 0.90612245, 0.89772727, 0.88])\n",
        "equal_data_no_weights_valid = 0.90461804\n",
        "equal_data_no_weights_avg = np.mean([0.85984848, 0.83333333, 0.89878543, 0.79190751,\n",
        "       0.81572482])\n",
        "equal_data_weights_valid = 0.90263955\n",
        "equal_data_weights_avg = np.mean([0.85380117, 0.83615819, 0.88372093, 0.83008357,\n",
        "       0.80745342])\n",
        "binary_valid = 0.92231677\n",
        "binary_misinf = 0.86928406\n",
        "\n",
        "pos = np.arange(2)\n",
        "width = 0.15\n",
        "\n",
        "fig, ax = plt.subplots(figsize=(6,6))\n",
        "plt.ylim(0.65, 1)\n",
        "ax.bar(pos, [orig_data_weights_valid, orig_data_weights_avg], width, alpha=0.5, color='g', label='All data, class weights')\n",
        "ax.bar(pos + 1*width, [one_fifth_data_no_weights_valid, one_fifth_data_no_weights_avg], width, alpha=0.5, color='r', label='Undersampling 2, no class weights')\n",
        "ax.bar(pos + 2*width, [binary_valid, binary_misinf], width, alpha=0.5, color='y', label='Binary classification, class weights')\n",
        "\n",
        "ax.set_ylabel('F1 Score', fontweight='heavy')\n",
        "ax.set_xlabel('Class', fontweight='heavy')\n",
        "ax.set_title('F1 Score by Class Label', fontweight='heavy')\n",
        "ax.set_xticks(pos + 2*width)\n",
        "ax.set_xticklabels(('0', '1'))\n",
        "ax.legend()\n",
        "\n",
        "# Show the plot\n",
        "plt.savefig(\"f1_binary.png\", dpi=300)\n",
        "files.download(\"f1_binary.png\") "
      ],
      "metadata": {
        "colab": {
          "base_uri": "https://localhost:8080/",
          "height": 564
        },
        "id": "TXNiyMR6dVus",
        "outputId": "6f7d5042-4d29-44c6-ae53-54f56709811f"
      },
      "execution_count": 3,
      "outputs": [
        {
          "output_type": "display_data",
          "data": {
            "text/plain": [
              "<IPython.core.display.Javascript object>"
            ],
            "application/javascript": [
              "\n",
              "    async function download(id, filename, size) {\n",
              "      if (!google.colab.kernel.accessAllowed) {\n",
              "        return;\n",
              "      }\n",
              "      const div = document.createElement('div');\n",
              "      const label = document.createElement('label');\n",
              "      label.textContent = `Downloading \"${filename}\": `;\n",
              "      div.appendChild(label);\n",
              "      const progress = document.createElement('progress');\n",
              "      progress.max = size;\n",
              "      div.appendChild(progress);\n",
              "      document.body.appendChild(div);\n",
              "\n",
              "      const buffers = [];\n",
              "      let downloaded = 0;\n",
              "\n",
              "      const channel = await google.colab.kernel.comms.open(id);\n",
              "      // Send a message to notify the kernel that we're ready.\n",
              "      channel.send({})\n",
              "\n",
              "      for await (const message of channel.messages) {\n",
              "        // Send a message to notify the kernel that we're ready.\n",
              "        channel.send({})\n",
              "        if (message.buffers) {\n",
              "          for (const buffer of message.buffers) {\n",
              "            buffers.push(buffer);\n",
              "            downloaded += buffer.byteLength;\n",
              "            progress.value = downloaded;\n",
              "          }\n",
              "        }\n",
              "      }\n",
              "      const blob = new Blob(buffers, {type: 'application/binary'});\n",
              "      const a = document.createElement('a');\n",
              "      a.href = window.URL.createObjectURL(blob);\n",
              "      a.download = filename;\n",
              "      div.appendChild(a);\n",
              "      a.click();\n",
              "      div.remove();\n",
              "    }\n",
              "  "
            ]
          },
          "metadata": {}
        },
        {
          "output_type": "display_data",
          "data": {
            "text/plain": [
              "<IPython.core.display.Javascript object>"
            ],
            "application/javascript": [
              "download(\"download_ff8fc210-d45f-45b3-be9d-7ff6dceac471\", \"f1_binary.png\", 103193)"
            ]
          },
          "metadata": {}
        },
        {
          "output_type": "display_data",
          "data": {
            "text/plain": [
              "<Figure size 600x600 with 1 Axes>"
            ],
            "image/png": "[encoded data removed]"
          },
          "metadata": {}
        }
      ]
    },
    {
      "cell_type": "code",
      "execution_count": null,
      "metadata": {
        "colab": {
          "base_uri": "https://localhost:8080/",
          "height": 751
        },
        "id": "k3cjO5hn9vC9",
        "outputId": "dd468f69-e573-44bb-e7bd-e19152d6112b"
      },
      "outputs": [
        {
          "output_type": "display_data",
          "data": {
            "text/plain": [
              "<IPython.core.display.Javascript object>"
            ],
            "application/javascript": [
              "\n",
              "    async function download(id, filename, size) {\n",
              "      if (!google.colab.kernel.accessAllowed) {\n",
              "        return;\n",
              "      }\n",
              "      const div = document.createElement('div');\n",
              "      const label = document.createElement('label');\n",
              "      label.textContent = `Downloading \"${filename}\": `;\n",
              "      div.appendChild(label);\n",
              "      const progress = document.createElement('progress');\n",
              "      progress.max = size;\n",
              "      div.appendChild(progress);\n",
              "      document.body.appendChild(div);\n",
              "\n",
              "      const buffers = [];\n",
              "      let downloaded = 0;\n",
              "\n",
              "      const channel = await google.colab.kernel.comms.open(id);\n",
              "      // Send a message to notify the kernel that we're ready.\n",
              "      channel.send({})\n",
              "\n",
              "      for await (const message of channel.messages) {\n",
              "        // Send a message to notify the kernel that we're ready.\n",
              "        channel.send({})\n",
              "        if (message.buffers) {\n",
              "          for (const buffer of message.buffers) {\n",
              "            buffers.push(buffer);\n",
              "            downloaded += buffer.byteLength;\n",
              "            progress.value = downloaded;\n",
              "          }\n",
              "        }\n",
              "      }\n",
              "      const blob = new Blob(buffers, {type: 'application/binary'});\n",
              "      const a = document.createElement('a');\n",
              "      a.href = window.URL.createObjectURL(blob);\n",
              "      a.download = filename;\n",
              "      div.appendChild(a);\n",
              "      a.click();\n",
              "      div.remove();\n",
              "    }\n",
              "  "
            ]
          },
          "metadata": {}
        },
        {
          "output_type": "display_data",
          "data": {
            "text/plain": [
              "<IPython.core.display.Javascript object>"
            ],
            "application/javascript": [
              "download(\"download_e1267d6b-2fc4-4142-adb8-7553ab7a1134\", \"test_accs.png\", 116957)"
            ]
          },
          "metadata": {}
        },
        {
          "output_type": "display_data",
          "data": {
            "text/plain": [
              "<Figure size 900x800 with 1 Axes>"
            ],
            "image/png": "[encoded data removed]"
          },
          "metadata": {}
        }
      ],
      "source": [
        "orig_data_no_weights_test_acc = 0.8818870523415978\n",
        "orig_data_weights_test_acc = 0.8791322314049587\n",
        "one_fifth_data_no_weights_test_acc = 0.8804347826086957\n",
        "equal_data_no_weights_test_acc = 0.8695652173913043\n",
        "equal_data_weights_test_acc = 0.8686956521739131   \n",
        "binary_class = 0.9025482093663911\n",
        "plt.figure(figsize=(9, 8))\n",
        "plt.ylim(0.82, 0.92)\n",
        "x = np.arange(6)\n",
        "plt.bar([\"All data, \\nno class weights\", \"All data, \\nclass weights\", \"Most significantly \\nscaled data, \\nno class weights\", 'Scaled data, \\nno class weights', 'Scaled data, \\nclass weights', 'Binary \\nclassification'], [orig_data_no_weights_test_acc, orig_data_weights_test_acc, one_fifth_data_no_weights_test_acc, equal_data_no_weights_test_acc, equal_data_weights_test_acc, binary_class], color='c')\n",
        "plt.ylabel('Test Accuracy', fontweight='heavy')\n",
        "plt.xlabel('Model', fontweight='heavy')\n",
        "plt.title('Model Test Accuracies', fontweight='heavy')\n",
        "\n",
        "plt.savefig(\"test_accs.png\", dpi=300)\n",
        "files.download(\"test_accs.png\") "
      ]
    },
    {
      "cell_type": "markdown",
      "metadata": {
        "id": "spjhf4XLxJ4A"
      },
      "source": [
        "## Sanity Checks: Climate Skeptics Dataset"
      ]
    },
    {
      "cell_type": "code",
      "execution_count": null,
      "metadata": {
        "id": "c7DcW1dpF6Sg"
      },
      "outputs": [],
      "source": [
        "import ast\n",
        "skeptics_data = pd.read_csv('https://raw.githubusercontent.com/livgimenes/climate-misinf-eeps1720/main/data/clean/climate_skeptics_all.csv?token=GHSAT0AAAAAAB5UTNPL7X6Y4HZKIFZ53EKUZCT2MQQ')\n",
        "\n",
        "def join_lists(lst):\n",
        "    return ' '.join(ast.literal_eval(lst))\n",
        "\n",
        "skeptics_data['claim'] = skeptics_data['claim'].apply(join_lists).apply(denoise_text)\n",
        "\n",
        "preds = model.predict(skeptics_data['claim'])"
      ]
    },
    {
      "cell_type": "code",
      "execution_count": null,
      "metadata": {
        "id": "q1dtUZCr4xlb"
      },
      "outputs": [],
      "source": [
        "non_zero = preds[0][preds[0] != 0]\n",
        "len(non_zero)"
      ]
    },
    {
      "cell_type": "code",
      "execution_count": null,
      "metadata": {
        "id": "ebkajoKOFktt"
      },
      "outputs": [],
      "source": [
        "science_data = pd.read_csv('https://raw.githubusercontent.com/livgimenes/climate-misinf-eeps1720/main/data/clean/climate_scientist_all.csv?token=GHSAT0AAAAAAB5UTNPLVZU4IHUV65CA6DMUZCT2ODQ')\n",
        "science_data['claim'] = science_data['claim'].apply(join_lists).apply(denoise_text)\n",
        "preds_real = model.predict(science_data['claim'])"
      ]
    },
    {
      "cell_type": "code",
      "execution_count": null,
      "metadata": {
        "id": "0ynTVm1CFu7H"
      },
      "outputs": [],
      "source": [
        "non_zero = preds_real[0][preds_real[0] != 0]\n",
        "len(non_zero)"
      ]
    },
    {
      "cell_type": "code",
      "execution_count": null,
      "metadata": {
        "id": "m-eRQX9e-J_i"
      },
      "outputs": [],
      "source": [
        "political_sub_data = pd.read_csv('https://raw.githubusercontent.com/livgimenes/climate-misinf-eeps1720/main/data/clean/political_posts.csv?token=GHSAT0AAAAAAB5UTNPLYZP2V752PSJK6MACZCT2O7Q')\n",
        "political_sub_data['claim'] = political_sub_data['claim'].apply(join_lists).apply(denoise_text)\n",
        "poli_preds = model.predict(political_sub_data['claim'])\n",
        "political_sub_data['prediction'] = poli_preds[0]\n"
      ]
    },
    {
      "cell_type": "code",
      "execution_count": null,
      "metadata": {
        "id": "e66y8tbs0Qva"
      },
      "outputs": [],
      "source": [
        "political_sub_data[political_sub_data['prediction'] != 0]"
      ]
    },
    {
      "cell_type": "markdown",
      "source": [
        "Corroborating results with second model"
      ],
      "metadata": {
        "id": "G_P7RgMDIcRu"
      }
    },
    {
      "cell_type": "code",
      "source": [
        "train2 = pd.read_csv('/content/training2.csv')\n",
        "valid2 = pd.read_csv('/content/validation.csv')\n",
        "test2 = pd.read_csv('/content/test.csv')\n",
        "\n",
        "train2['text'] = train2['text'].astype(str).apply(denoise_text)\n",
        "valid2['text'] = valid2['text'].astype(str).apply(denoise_text)\n",
        "test2['text'] = test2['text'].astype(str).apply(denoise_text)\n",
        "\n",
        "label_encoder = LabelEncoder()\n",
        "\n",
        "train2['labels'] = label_encoder.fit_transform(train2.claim)\n",
        "valid2['labels'] = label_encoder.fit_transform(valid2.claim)\n",
        "test2['labels'] = label_encoder.fit_transform(test2.claim)"
      ],
      "metadata": {
        "id": "U-KidVWxIupd"
      },
      "execution_count": 24,
      "outputs": []
    },
    {
      "cell_type": "code",
      "source": [
        "weights = compute_class_weight(class_weight=None, classes=train2.labels.unique(), y=train2.labels)\n",
        "weights = [*weights]\n",
        "\n",
        "model2 = ClassificationModel('roberta', 'roberta-large', \n",
        "                            weight = weights,\n",
        "                            num_labels = 6,\n",
        "                            args={'reprocess_input_data': True, \n",
        "                                  'overwrite_output_dir': True,\n",
        "                                  'output_dir': 'models/new_model/',\n",
        "                                  'best_model_dir': 'models/new_model/best_model/',\n",
        "                                  # Hyperparameters\n",
        "                                  'train_batch_size': 6,\n",
        "                                  'num_train_epochs': 3, \n",
        "                                  'learning_rate': 1e-5,\n",
        "                                  # Text processing\n",
        "                                  'max_seq_length': 256,\n",
        "                                  'sliding_window': True,\n",
        "                                  'stride': 0.6,\n",
        "                                  'do_lower_case': False,\n",
        "                                  # Evaluation\n",
        "                                  'evaluate_during_training': True,\n",
        "                                  'evaluate_during_training_verbose': True,\n",
        "                                  'evaluate_during_training_steps': -1,\n",
        "                                  })\n",
        "\n",
        "# Train and evaluate the model\n",
        "model2.train_model(train2, eval_df = valid2,\n",
        "                  f1_macro = f1_multiclass_macro, \n",
        "                  f1_micro = f1_multiclass_micro, \n",
        "                  f1_weighted = f1_multiclass_weighted, \n",
        "                  acc = accuracy_score, \n",
        "                  f1_class = f1_class)"
      ],
      "metadata": {
        "id": "ZkT1cWp4I9LD"
      },
      "execution_count": null,
      "outputs": []
    },
    {
      "cell_type": "code",
      "source": [
        "result_test, model_outputs_test, wrong_predictions_test = model2.eval_model(test2, \n",
        "                                                                           f1_macro = f1_multiclass_macro,\n",
        "                                                                           precision = precision, \n",
        "                                                                           recall = recall,\n",
        "                                                                           acc = accuracy_score,\n",
        "                                                                           f1_micro = f1_multiclass_micro, \n",
        "                                                                           f1_weighted = f1_multiclass_weighted,\n",
        "                                                                           f1_class = f1_class)\n",
        "print('\\n\\nThese are the results when testing the model on the testing data set:\\n')\n",
        "print(result_test)"
      ],
      "metadata": {
        "id": "5emSP9c-NMt3"
      },
      "execution_count": null,
      "outputs": []
    },
    {
      "cell_type": "code",
      "source": [
        "poli_preds_2 = model2.predict(political_sub_data['claim'])\n",
        "political_sub_data['prediction2'] = poli_preds_2[0]"
      ],
      "metadata": {
        "id": "8uCDPFB1IGxs"
      },
      "execution_count": null,
      "outputs": []
    },
    {
      "cell_type": "code",
      "source": [
        "political_sub_data['final_pred'] = np.where((political_sub_data['prediction'] == 0) | (political_sub_data['prediction2'] == 0), 0, political_sub_data['prediction'])"
      ],
      "metadata": {
        "id": "aUV1IgKlKvi4"
      },
      "execution_count": 35,
      "outputs": []
    },
    {
      "cell_type": "code",
      "execution_count": null,
      "metadata": {
        "id": "KxTN8LZW-3Va"
      },
      "outputs": [],
      "source": [
        "import matplotlib.pyplot as plt\n",
        "# create a pivot table to count the number of claims for each subreddit and label\n",
        "pivot = pd.pivot_table(political_sub_data, values='claim', index='subreddit', columns='final_pred', aggfunc='count')\n",
        "\n",
        "# create a stacked bar chart to show the distribution of claim labels by subreddit\n",
        "pivot.plot(kind='bar', stacked=False)\n",
        "\n",
        "# add labels and title to the chart\n",
        "plt.xlabel('Subreddit')\n",
        "plt.ylabel('Number of Claims')\n",
        "plt.title('Distribution of Claim Labels by Subreddit')\n",
        "plt.show()"
      ]
    },
    {
      "cell_type": "code",
      "source": [
        "poli_misinf = political_sub_data[political_sub_data['final_pred'] != 0]\n",
        "pivot2 = pd.pivot_table(poli_misinf, values='claim', index='subreddit', columns='final_pred', aggfunc='count')\n",
        "\n",
        "# create a stacked bar chart to show the distribution of claim labels by subreddit\n",
        "pivot2.plot(kind='bar', stacked=False)\n",
        "\n",
        "# add labels and title to the chart\n",
        "plt.xlabel('Subreddit')\n",
        "plt.ylabel('Number of Claims')\n",
        "plt.title('Distribution of Claim Labels by Subreddit')\n",
        "plt.show()"
      ],
      "metadata": {
        "id": "5NdBdNipHAMm"
      },
      "execution_count": null,
      "outputs": []
    },
    {
      "cell_type": "code",
      "execution_count": null,
      "metadata": {
        "id": "DaEi1S8GlTr8"
      },
      "outputs": [],
      "source": [
        "pivot = pivot.fillna(0)\n",
        "pivot"
      ]
    }
  ],
  "metadata": {
    "accelerator": "GPU",
    "colab": {
      "provenance": [],
      "machine_shape": "hm",
      "gpuType": "A100",
      "authorship_tag": "ABX9TyPwssjXTEnRvAJ98NQiQgwU",
      "include_colab_link": true
    },
    "gpuClass": "premium",
    "kernelspec": {
      "display_name": "Python 3",
      "name": "python3"
    },
    "language_info": {
      "name": "python"
    }
  },
  "nbformat": 4,
  "nbformat_minor": 0
}